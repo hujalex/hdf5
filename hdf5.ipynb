{
 "cells": [
  {
   "cell_type": "code",
   "execution_count": 39,
   "metadata": {},
   "outputs": [
    {
     "name": "stdout",
     "output_type": "stream",
     "text": [
      "<KeysViewHDF5 ['ExampleTable', 'SimpleDataset']>\n",
      "Table Data:\n",
      "   ID  Value     Name\n",
      "0   1   3.14  b'Row1'\n",
      "1   2   2.71  b'Row2'\n",
      "2   3   1.61  b'Row3'\n",
      "3   4   0.57  b'Row4'\n",
      "4   5   1.41  b'Row5'\n",
      "\n",
      "Simple Dataset Data:\n",
      "   SimpleDataset\n",
      "0              0\n",
      "1              2\n",
      "2              4\n",
      "3              6\n",
      "4              8\n",
      "5             10\n",
      "6             12\n",
      "7             14\n",
      "8             16\n",
      "9             18\n"
     ]
    }
   ],
   "source": [
    "import h5py\n",
    "import pandas as pd\n",
    "\n",
    "# Open the file using h5py and read the table data\n",
    "with h5py.File(\"example.h5\", \"r\") as f:\n",
    "    # Read the \"ExampleTable\" data\n",
    "\n",
    "    print(f.keys())\n",
    "\n",
    "    table_data = f[\"ExampleTable\"][:]\n",
    "    # Convert to DataFrame\n",
    "    df = pd.DataFrame(table_data)\n",
    "\n",
    "    # Optionally, load the \"SimpleDataset\" as well\n",
    "    simple_data = f[\"SimpleDataset\"][:]\n",
    "    simple_df = pd.DataFrame(simple_data, columns=[\"SimpleDataset\"])\n",
    "\n",
    "# Display the DataFrame\n",
    "print(\"Table Data:\")\n",
    "print(df)\n",
    "\n",
    "print(\"\\nSimple Dataset Data:\")\n",
    "print(simple_df)\n"
   ]
  },
  {
   "cell_type": "code",
   "execution_count": 37,
   "metadata": {},
   "outputs": [
    {
     "data": {
      "text/html": [
       "<div>\n",
       "<style scoped>\n",
       "    .dataframe tbody tr th:only-of-type {\n",
       "        vertical-align: middle;\n",
       "    }\n",
       "\n",
       "    .dataframe tbody tr th {\n",
       "        vertical-align: top;\n",
       "    }\n",
       "\n",
       "    .dataframe thead th {\n",
       "        text-align: right;\n",
       "    }\n",
       "</style>\n",
       "<table border=\"1\" class=\"dataframe\">\n",
       "  <thead>\n",
       "    <tr style=\"text-align: right;\">\n",
       "      <th></th>\n",
       "      <th>ID</th>\n",
       "      <th>Value</th>\n",
       "      <th>Name</th>\n",
       "    </tr>\n",
       "  </thead>\n",
       "  <tbody>\n",
       "    <tr>\n",
       "      <th>0</th>\n",
       "      <td>1</td>\n",
       "      <td>3.14</td>\n",
       "      <td>b'Row1'</td>\n",
       "    </tr>\n",
       "    <tr>\n",
       "      <th>1</th>\n",
       "      <td>2</td>\n",
       "      <td>2.71</td>\n",
       "      <td>b'Row2'</td>\n",
       "    </tr>\n",
       "    <tr>\n",
       "      <th>2</th>\n",
       "      <td>3</td>\n",
       "      <td>1.61</td>\n",
       "      <td>b'Row3'</td>\n",
       "    </tr>\n",
       "    <tr>\n",
       "      <th>3</th>\n",
       "      <td>4</td>\n",
       "      <td>0.57</td>\n",
       "      <td>b'Row4'</td>\n",
       "    </tr>\n",
       "    <tr>\n",
       "      <th>4</th>\n",
       "      <td>5</td>\n",
       "      <td>1.41</td>\n",
       "      <td>b'Row5'</td>\n",
       "    </tr>\n",
       "  </tbody>\n",
       "</table>\n",
       "</div>"
      ],
      "text/plain": [
       "   ID  Value     Name\n",
       "0   1   3.14  b'Row1'\n",
       "1   2   2.71  b'Row2'\n",
       "2   3   1.61  b'Row3'\n",
       "3   4   0.57  b'Row4'\n",
       "4   5   1.41  b'Row5'"
      ]
     },
     "execution_count": 37,
     "metadata": {},
     "output_type": "execute_result"
    }
   ],
   "source": [
    "df"
   ]
  },
  {
   "cell_type": "code",
   "execution_count": 38,
   "metadata": {},
   "outputs": [
    {
     "data": {
      "text/html": [
       "<div>\n",
       "<style scoped>\n",
       "    .dataframe tbody tr th:only-of-type {\n",
       "        vertical-align: middle;\n",
       "    }\n",
       "\n",
       "    .dataframe tbody tr th {\n",
       "        vertical-align: top;\n",
       "    }\n",
       "\n",
       "    .dataframe thead th {\n",
       "        text-align: right;\n",
       "    }\n",
       "</style>\n",
       "<table border=\"1\" class=\"dataframe\">\n",
       "  <thead>\n",
       "    <tr style=\"text-align: right;\">\n",
       "      <th></th>\n",
       "      <th>SimpleDataset</th>\n",
       "    </tr>\n",
       "  </thead>\n",
       "  <tbody>\n",
       "    <tr>\n",
       "      <th>0</th>\n",
       "      <td>0</td>\n",
       "    </tr>\n",
       "    <tr>\n",
       "      <th>1</th>\n",
       "      <td>2</td>\n",
       "    </tr>\n",
       "    <tr>\n",
       "      <th>2</th>\n",
       "      <td>4</td>\n",
       "    </tr>\n",
       "    <tr>\n",
       "      <th>3</th>\n",
       "      <td>6</td>\n",
       "    </tr>\n",
       "    <tr>\n",
       "      <th>4</th>\n",
       "      <td>8</td>\n",
       "    </tr>\n",
       "    <tr>\n",
       "      <th>5</th>\n",
       "      <td>10</td>\n",
       "    </tr>\n",
       "    <tr>\n",
       "      <th>6</th>\n",
       "      <td>12</td>\n",
       "    </tr>\n",
       "    <tr>\n",
       "      <th>7</th>\n",
       "      <td>14</td>\n",
       "    </tr>\n",
       "    <tr>\n",
       "      <th>8</th>\n",
       "      <td>16</td>\n",
       "    </tr>\n",
       "    <tr>\n",
       "      <th>9</th>\n",
       "      <td>18</td>\n",
       "    </tr>\n",
       "  </tbody>\n",
       "</table>\n",
       "</div>"
      ],
      "text/plain": [
       "   SimpleDataset\n",
       "0              0\n",
       "1              2\n",
       "2              4\n",
       "3              6\n",
       "4              8\n",
       "5             10\n",
       "6             12\n",
       "7             14\n",
       "8             16\n",
       "9             18"
      ]
     },
     "execution_count": 38,
     "metadata": {},
     "output_type": "execute_result"
    }
   ],
   "source": [
    "simple_df"
   ]
  },
  {
   "cell_type": "code",
   "execution_count": null,
   "metadata": {},
   "outputs": [
    {
     "name": "stdout",
     "output_type": "stream",
     "text": [
      "done: 2024-11-10 12:11:58.047559\n"
     ]
    }
   ],
   "source": [
    "import numpy as np\n",
    "from datetime import datetime\n",
    "import csv\n",
    "\n",
    "with open(\"float_32_tester.csv\",\"w\",newline='') as out_file:\n",
    "    writer = csv.writer(out_file)\n",
    "    for i in range(10):\n",
    "        for j in range(10):\n",
    "            for k in range(10):\n",
    "                to_write = np.float32(3.1415926535897932384626433832795028841971693993)\n",
    "                data = [to_write]*10\n",
    "                writer.writerow(data)\n",
    "with open(\"float_64_tester.csv\",\"w\",newline='') as out_file:\n",
    "    writer = csv.writer(out_file)\n",
    "    for i in range(10):\n",
    "        for j in range(10):\n",
    "            for k in range(10):\n",
    "                to_write = np.float64(3.1415926535897932384626433832795028841971693993)\n",
    "                data = [to_write]*10\n",
    "                writer.writerow(data)\n",
    "print(\"done:\",datetime.now())\n"
   ]
  },
  {
   "cell_type": "code",
   "execution_count": null,
   "metadata": {},
   "outputs": [
    {
     "name": "stdout",
     "output_type": "stream",
     "text": [
      "done: 2024-11-10 12:27:24.028052\n"
     ]
    }
   ],
   "source": [
    "import h5py\n",
    "import numpy as np\n",
    "import csv\n",
    "filename = 'data1.h5'\n",
    "to_write = np.float32(3.1415926535897932384626433832795028841971693993)\n",
    "data = np.array([to_write]*10)\n",
    "with h5py.File(filename, 'w') as f:\n",
    "    # Check if dataset exists, if not create one\n",
    "    if 'my_dataset' not in f:\n",
    "        # Create a dataset with an initial size, here 0 elements\n",
    "        dset = f.create_dataset('my_dataset', (0,), maxshape=(None,), dtype='i')\n",
    "    else:\n",
    "        # Get the existing dataset\n",
    "        dset = f['my_dataset']\n",
    "    \n",
    "    # Write data multiple times (e.g., 5 times)\n",
    "    for i in range(1000):\n",
    "        # Append data by resizing the dataset\n",
    "        dset.resize(dset.shape[0] + data.shape[0], axis=0)\n",
    "        dset[-data.shape[0]:] = data\n",
    "with open(\"float_32_tester.csv\",\"w\",newline='') as out_file:\n",
    "    writer = csv.writer(out_file)\n",
    "    for i in range(1000):\n",
    "        to_write = np.float32(3.1415926535897932384626433832795028841971693993)\n",
    "        data = [to_write]*10\n",
    "        writer.writerow(data)\n",
    "print(\"done:\",datetime.now())"
   ]
  }
 ],
 "metadata": {
  "kernelspec": {
   "display_name": "Python 3",
   "language": "python",
   "name": "python3"
  },
  "language_info": {
   "codemirror_mode": {
    "name": "ipython",
    "version": 3
   },
   "file_extension": ".py",
   "mimetype": "text/x-python",
   "name": "python",
   "nbconvert_exporter": "python",
   "pygments_lexer": "ipython3",
   "version": "3.11.10"
  }
 },
 "nbformat": 4,
 "nbformat_minor": 2
}
